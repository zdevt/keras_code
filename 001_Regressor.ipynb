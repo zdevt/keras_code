{
 "nbformat": 4,
 "nbformat_minor": 2,
 "metadata": {
  "language_info": {
   "name": "python",
   "codemirror_mode": {
    "name": "ipython",
    "version": 3
   },
   "version": "3.7.6-final"
  },
  "orig_nbformat": 2,
  "file_extension": ".py",
  "mimetype": "text/x-python",
  "name": "python",
  "npconvert_exporter": "python",
  "pygments_lexer": "ipython3",
  "version": 3,
  "kernelspec": {
   "name": "python3",
   "display_name": "Python 3"
  }
 },
 "cells": [
  {
   "cell_type": "code",
   "execution_count": null,
   "metadata": {},
   "outputs": [],
   "source": [
    "import numpy as np\n",
    "np.random.seed(1337)  \n",
    "from keras.models import Sequential \n",
    "from keras.layers import Dense\n",
    "import matplotlib.pyplot as plt\n",
    "%matplotlib inline"
   ]
  },
  {
   "cell_type": "code",
   "execution_count": null,
   "metadata": {},
   "outputs": [],
   "source": [
    "# 创建数据集\n",
    "X = np.linspace(-1, 1, 200)\n",
    "np.random.shuffle(X)    # 将数据集随机化\n",
    "Y = 0.5 * X + 2 + np.random.normal(0, 0.05, (200, )) # 假设我们真实模型为：Y=0.5X+2\n",
    "# 绘制数据集plt.scatter(X, Y)\n",
    "plt.show()"
   ]
  },
  {
   "cell_type": "code",
   "execution_count": null,
   "metadata": {},
   "outputs": [],
   "source": [
    "X_train, Y_train = X[:160], Y[:160]     # 把前160个数据放到训练集\n",
    "X_test, Y_test = X[160:], Y[160:]       # 把后40个点放到测试集"
   ]
  },
  {
   "cell_type": "code",
   "execution_count": null,
   "metadata": {},
   "outputs": [],
   "source": [
    "# 定义一个model，\n",
    "model = Sequential () # Keras有两种类型的模型，序贯模型（Sequential）和函数式模型\n",
    "                      # 比较常用的是Sequential，它是单输入单输出的\n",
    "model.add(Dense(output_dim=1, input_dim=1)) # 通过add()方法一层层添加模型\n",
    "                                            # Dense是全连接层，第一层需要定义输入，\n",
    "                                            # 第二层无需指定输入，一般第二层把第一层的输出作为输入\n",
    "\n",
    "# 定义完模型就需要训练了，不过训练之前我们需要指定一些训练参数\n",
    "# 通过compile()方法选择损失函数和优化器\n",
    "# 这里我们用均方误差作为损失函数，随机梯度下降作为优化方法\n",
    "model.compile(loss='mse', optimizer='sgd')"
   ]
  },
  {
   "cell_type": "code",
   "execution_count": null,
   "metadata": {},
   "outputs": [],
   "source": [
    "# 开始训练\n",
    "print('Training -----------')\n",
    "for step in range(301):\n",
    "    cost = model.train_on_batch(X_train, Y_train) # Keras有很多开始训练的函数，这里用train_on_batch（）\n",
    "    if step % 100 == 0:\n",
    "        print('train cost: ', cost)"
   ]
  },
  {
   "cell_type": "code",
   "execution_count": null,
   "metadata": {},
   "outputs": [],
   "source": [
    "# 测试训练好的模型\n",
    "print('\\nTesting ------------')\n",
    "cost = model.evaluate(X_test, Y_test, batch_size=40)\n",
    "print('test cost:', cost)\n",
    "W, b = model.layers[0].get_weights()    # 查看训练出的网络参数\n",
    "                                        # 由于我们网络只有一层，且每次训练的输入只有一个，输出只有一个\n",
    "                                        # 因此第一层训练出Y=WX+B这个模型，其中W,b为训练出的参数\n",
    "print('Weights=', W, '\\nbiases=', b)\n",
    "\n",
    "# plotting the prediction\n",
    "Y_pred = model.predict(X_test)\n",
    "plt.scatter(X_test, Y_test)\n",
    "plt.plot(X_test, Y_pred)\n",
    "plt.show()"
   ]
  }
 ]
}